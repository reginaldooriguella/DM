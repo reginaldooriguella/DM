{
  "nbformat": 4,
  "nbformat_minor": 0,
  "metadata": {
    "colab": {
      "name": "questao-02.ipynb",
      "provenance": [],
      "include_colab_link": true
    },
    "kernelspec": {
      "name": "python3",
      "display_name": "Python 3"
    }
  },
  "cells": [
    {
      "cell_type": "markdown",
      "metadata": {
        "id": "view-in-github",
        "colab_type": "text"
      },
      "source": [
        "<a href=\"https://colab.research.google.com/github/reginaldooriguella/DM/blob/master/questao_02.ipynb\" target=\"_parent\"><img src=\"https://colab.research.google.com/assets/colab-badge.svg\" alt=\"Open In Colab\"/></a>"
      ]
    },
    {
      "cell_type": "code",
      "metadata": {
        "id": "ByXxSYpW2-p1"
      },
      "source": [
        "#Questão 2. Crie um script em Python ou Node.js que carrega os dados do dataset e, como saída, crie um arquivo CSV somente as seguintes colunas do dataset original: id , host_id , price , number_of_reviews , last_review (0,5 ponto).#\n",
        "\n",
        "\n",
        "import pandas as pd\n",
        "pd.set_option('display.max_columns', None)\n",
        "pd.set_option('display.max_rows', None)\n",
        "\n",
        "\n",
        "df = pd.read_csv(\"https://raw.githubusercontent.com/reginaldooriguella/DM/master/AB_NYC_2019.csv\")\n",
        "\n",
        "newdf=df[['id','host_id','price','number_of_reviews','last_review']]\n",
        "\n",
        "newdf.to_csv(\"AB_NYC_2019_NEW.csv\", index=False)"
      ],
      "execution_count": 1,
      "outputs": []
    }
  ]
}